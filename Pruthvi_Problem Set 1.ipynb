{
 "cells": [
  {
   "cell_type": "markdown",
   "id": "45982fac-7838-47cf-866b-d5702b6d7390",
   "metadata": {},
   "source": [
    "<h1>Question 1<h1>"
   ]
  },
  {
   "cell_type": "code",
   "execution_count": 16,
   "id": "2d8b9246-606b-40dc-ac26-0d2d83c5e0c9",
   "metadata": {},
   "outputs": [
    {
     "name": "stdout",
     "output_type": "stream",
     "text": [
      "<class 'int'>\n",
      "<class 'float'>\n",
      "<class 'bool'>\n",
      "<class 'str'>\n",
      "<class 'int'>\n",
      "<class 'str'>\n",
      "<class 'str'>\n",
      "<class 'float'>\n",
      "<class 'int'>\n",
      "<class 'set'>\n",
      "<class 'bool'>\n",
      "<class 'float'>\n"
     ]
    }
   ],
   "source": [
    "print(type(5)) \n",
    "print(type(5.0))\n",
    "print(type(5 > 1))\n",
    "print(type('5'))\n",
    "print(type(5 * 2))\n",
    "print(type('5' * 2))\n",
    "print(type('5' + '2'))\n",
    "print(type(5 / 2))\n",
    "print(type(5 % 2))\n",
    "print(type({5, 2, 1}))\n",
    "print(type(5 == 3))\n",
    "print(type(3.14))"
   ]
  },
  {
   "cell_type": "markdown",
   "id": "8a301e1a-d6db-4051-b9a6-987770ef64e4",
   "metadata": {},
   "source": [
    "<h1>Question 2<h1>"
   ]
  },
  {
   "cell_type": "code",
   "execution_count": 126,
   "id": "5a8b3704-61ff-4ab1-b318-da1476544206",
   "metadata": {},
   "outputs": [
    {
     "name": "stdout",
     "output_type": "stream",
     "text": [
      "34\n",
      "True\n",
      "Supercalifragilisticexpialidocious\n",
      "The first composer is Bartok\n",
      "The last composer is Buxtehude\n"
     ]
    }
   ],
   "source": [
    "word = \"Supercalifragilisticexpialidocious\"\n",
    "print (len(word))\n",
    "print (\"ice\" in word)\n",
    "wordlist = [\"Supercalifragilisticexpialidocious\",\"Honorificabilitudinitatibus\",\"Bababadalgharaghtakamminarronnkonn\"]\n",
    "long_word = max(wordlist, key=len) #to compare the length of items in wordlist variable\n",
    "print(long_word)\n",
    "composer = ['Berlioz', 'Borodin', 'Brian', 'Bartok', 'Bellini', 'Buxtehude', 'Bernstein']\n",
    "First_Composer = min(composer)\n",
    "Last_Composer = max(composer)\n",
    "print(f\"The first composer is {First_Composer}\")\n",
    "print(f\"The last composer is {Last_Composer}\")"
   ]
  },
  {
   "cell_type": "markdown",
   "id": "aaf2887d-ed48-4c73-aa80-0d595052f1ea",
   "metadata": {},
   "source": [
    "<h1>Question 3<h1>"
   ]
  },
  {
   "cell_type": "code",
   "execution_count": 33,
   "id": "240cbeb3-52d6-4389-b62f-9873b9c5b982",
   "metadata": {},
   "outputs": [
    {
     "name": "stdout",
     "output_type": "stream",
     "text": [
      "The triangle's area is: 1.7320508075688772\n"
     ]
    }
   ],
   "source": [
    "a = 2\n",
    "b = 2\n",
    "c = 2\n",
    "import math\n",
    "def areaofthetriangle(a, b, c):\n",
    "    s = (a+b+c)/2\n",
    "    area = math.sqrt(s*(s-a)*(s-b)*(s-c)) #calculating area using formula\n",
    "    return area\n",
    "print(f\"The triangle's area is: {areaofthetriangle(a, b, c)}\")\n"
   ]
  },
  {
   "cell_type": "markdown",
   "id": "d31b04b8-d297-46ac-b5bc-4b12c2c5f265",
   "metadata": {},
   "source": [
    "<h1>Question 4<h1>"
   ]
  },
  {
   "cell_type": "code",
   "execution_count": 48,
   "id": "0611b75a-a180-4430-9d9b-8161844ead84",
   "metadata": {},
   "outputs": [
    {
     "name": "stdin",
     "output_type": "stream",
     "text": [
      "Input the number of elements to be stored in the array:  5\n",
      "Number - 0 :  25\n",
      "Number - 1 :  47\n",
      "Number - 2 :  42\n",
      "Number - 3 :  56\n",
      "Number - 4 :  32\n"
     ]
    },
    {
     "name": "stdout",
     "output_type": "stream",
     "text": [
      "Even numbers are: [42, 56, 32]\n",
      "Odd numbers are: [25, 47]\n"
     ]
    }
   ],
   "source": [
    "n = int(input(\"Input the number of elements to be stored in the array: \")) #input numbers\n",
    "arr = [int(input(f\"Number - {i} : \")) for i in range(n)] #input array\n",
    "even = [num for num in arr if num % 2 == 0]\n",
    "odd = [num for num in arr if num % 2 != 0]\n",
    "print(f\"Even numbers are: {even}\")\n",
    "print(f\"Odd numbers are: {odd}\")\n"
   ]
  },
  {
   "cell_type": "markdown",
   "id": "48e8c9ca-7a2b-4228-b1f4-fa4fa5fa053a",
   "metadata": {},
   "source": [
    "<h1>Question 5<h1>"
   ]
  },
  {
   "cell_type": "code",
   "execution_count": 95,
   "id": "d2d487f0-eba1-4b3f-bc26-9b1209c0215e",
   "metadata": {},
   "outputs": [
    {
     "name": "stdout",
     "output_type": "stream",
     "text": [
      "True\n",
      "False\n"
     ]
    }
   ],
   "source": [
    "#part A\n",
    "\n",
    "def inside(x,y,x1,y1,x2,y2):\n",
    "    return x1<=x<=x2 and y1<=y<=y2 #See if the points are within rectangle boundary\n",
    "print (inside(1,1,0,0,2,3)) #if true\n",
    "print (inside(-1,-1,0,0,2,3)) #if not true"
   ]
  },
  {
   "cell_type": "code",
   "execution_count": 105,
   "id": "6d10c5c2-ffcb-43fc-88a5-ae0484b0b1a6",
   "metadata": {},
   "outputs": [
    {
     "name": "stdout",
     "output_type": "stream",
     "text": [
      "False\n"
     ]
    }
   ],
   "source": [
    "#part B\n",
    "\n",
    "x,y =1,1\n",
    "result = inside(x,y,0.3,0.5,1.1,0.7) and inside(x,y,0.5,0.2,1.1,2) #to see if the point is inside both of the rectangles\n",
    "print(result)"
   ]
  },
  {
   "cell_type": "markdown",
   "id": "7e3c702d-3744-4a14-8888-2ef0d80ade9a",
   "metadata": {},
   "source": [
    "<h1>Question 6<h1>"
   ]
  },
  {
   "cell_type": "code",
   "execution_count": 270,
   "id": "71619424-66d8-47a6-92e2-c55ef39c186d",
   "metadata": {},
   "outputs": [
    {
     "name": "stdout",
     "output_type": "stream",
     "text": [
      "appyhay\n",
      "enterway\n"
     ]
    }
   ],
   "source": [
    "def pig(word):\n",
    "    word = word.lower() #switch to lowercase letters\n",
    "    vowels = 'aeiou'\n",
    "    if word[0] in vowels: #check if the 1st letter is a vowel\n",
    "        return word + 'way'\n",
    "    else:\n",
    "        return word[1:] + word[0] + 'ay'\n",
    "print(pig(\"happy\"))\n",
    "print(pig(\"Enter\"))"
   ]
  },
  {
   "cell_type": "markdown",
   "id": "3e52ec8b-127e-4869-b377-5140ba8fa6e9",
   "metadata": {},
   "source": [
    "<h1>Question 7<h1>"
   ]
  },
  {
   "cell_type": "code",
   "execution_count": 315,
   "id": "2574b28d-e754-43e2-8ddd-04cb29bcf867",
   "metadata": {},
   "outputs": [
    {
     "name": "stdout",
     "output_type": "stream",
     "text": [
      "There are 15 patients of blood type A.\n",
      "There is one patient of blood type B.\n",
      "There are 13 patients of blood type AB.\n",
      "There are 15 patients of blood type O.\n",
      "There are no patients of blood type OO.\n"
     ]
    }
   ],
   "source": [
    "content = \"\"\"AB AB B O A A AB O AB A O O A A A O O O AB O A A A A A AB AB A AB O AB O A O O O AB O AB AB AB A A O \"\"\" #writing file's content\n",
    "\n",
    "with open('bloodtype1.txt', 'w') as file: #Opening and saving file\n",
    "    file.write(content) \n",
    "\n",
    "def bldcount(bloodtype1):\n",
    "    typeofblood = ['A', 'B', 'AB', 'O', 'OO']\n",
    "    countblood = {blood_type: 0 for blood_type in typeofblood} #storing blood type count\n",
    "\n",
    "    try:\n",
    "        with open(\"bloodtype1.txt\", 'r') as file:\n",
    "            data = file.read().split()\n",
    "\n",
    "        for blood_type in data: #count number of times occured\n",
    "            if blood_type in countblood:\n",
    "                countblood[blood_type] += 1\n",
    "\n",
    "\n",
    "        for blood_type in typeofblood:\n",
    "            count = countblood[blood_type]\n",
    "            if count == 0:\n",
    "                print(f\"There are no patients of blood type {blood_type}.\")\n",
    "            elif count == 1:\n",
    "                print(f\"There is one patient of blood type {blood_type}.\")\n",
    "            else:\n",
    "                print(f\"There are {count} patients of blood type {blood_type}.\")\n",
    "    except Exception:\n",
    "        print(f\"Error: The file '{\"bloodtype1.txt\"}' was not found.\")\n",
    "\n",
    "bldcount('bloodtype1.txt')"
   ]
  },
  {
   "cell_type": "markdown",
   "id": "60f96474-52ee-4e3a-bc3a-00b6b12ca5d8",
   "metadata": {},
   "source": [
    "<h1>Question 8<h1>"
   ]
  },
  {
   "cell_type": "code",
   "execution_count": 298,
   "id": "6eab4240-97b8-4b5d-82c8-b0d384efa7eb",
   "metadata": {},
   "outputs": [
    {
     "name": "stdout",
     "output_type": "stream",
     "text": [
      "File saved successfully!\n",
      "122.96544\n",
      "1.241401\n"
     ]
    }
   ],
   "source": [
    "# Define the content of the file\n",
    "content = \"\"\"AUD 1.0345157 Australian Dollar\n",
    "CHF 1.0237414 Swiss Franc\n",
    "CNY 0.1550176 Chinese Yuan\n",
    "DKK 0.1651442 Danish Krone\n",
    "EUR 1.2296544 Euro\n",
    "GBP 1.5550989 British Pound\n",
    "HKD 0.1270207 Hong Kong Dollar\n",
    "INR 0.0177643 Indian Rupee\n",
    "JPY 0.01241401 Japanese Yen\n",
    "MXN 0.0751848 Mexican Peso\n",
    "MYR 0.3145411 Malaysian Ringgit\n",
    "NOK 0.1677063 Norwegian Krone\n",
    "NZD 0.8003591 New Zealand Dollar\n",
    "PHP 0.0233234 Philippine Peso\n",
    "SEK 0.148269 Swedish Krona\n",
    "SGD 0.788871 Singapore Dollar\n",
    "THB 0.0313789 Thai Baht\"\"\"\n",
    "\n",
    "with open('currencies.txt', 'w') as file: #Opening and saving the file\n",
    "    file.write(content)\n",
    "\n",
    "print(\"File saved successfully!\")\n",
    "\n",
    "\n",
    "def curconv(currency, amount):\n",
    "    with open('currencies.txt', 'r') as file: #Fetch the currency from file\n",
    "        rates = {}\n",
    "        for line in file:\n",
    "            parts = line.split()\n",
    "            rates[parts[0]] = float(parts[1])\n",
    "     \n",
    "    if currency in rates: #Converting the currency\n",
    "        return amount * rates[currency]\n",
    "    else:\n",
    "        return None\n",
    "\n",
    "print(curconv('EUR', 100))\n",
    "print(curconv('JPY', 100))\n"
   ]
  },
  {
   "cell_type": "markdown",
   "id": "8c0b02f1-2af0-478b-96a3-0c8316097d38",
   "metadata": {},
   "source": [
    "<h1>Question 9<h1>"
   ]
  },
  {
   "cell_type": "code",
   "execution_count": 230,
   "id": "c26db7ac-6365-4de6-aa10-4295af4d7fcb",
   "metadata": {},
   "outputs": [
    {
     "name": "stdout",
     "output_type": "stream",
     "text": [
      "Error: unsupported operand type(s) for +: 'int' and 'str'\n"
     ]
    }
   ],
   "source": [
    "try: \n",
    "    result = 6 + 'a'\n",
    "except Exception as e:\n",
    "    print(f\"Error: {e}\")"
   ]
  },
  {
   "cell_type": "code",
   "execution_count": 232,
   "id": "2a690cea-85b7-4b5e-a4ba-553b77e1e0a8",
   "metadata": {},
   "outputs": [
    {
     "name": "stdout",
     "output_type": "stream",
     "text": [
      "Error: list index out of range\n"
     ]
    }
   ],
   "source": [
    "try:\n",
    "    Numbers = [0] * 10  #the list has 10 numbers\n",
    "    result = Numbers[11]\n",
    "except Exception as e:\n",
    "    print(f\"Error: {e}\")\n"
   ]
  },
  {
   "cell_type": "code",
   "execution_count": 234,
   "id": "2f037870-935e-46db-8354-191bb4a6ab60",
   "metadata": {},
   "outputs": [
    {
     "name": "stdout",
     "output_type": "stream",
     "text": [
      "Error: math domain error\n"
     ]
    }
   ],
   "source": [
    "import math\n",
    "try:\n",
    "    result = math.sqrt(-1.0)\n",
    "except Exception as e:\n",
    "    print(f\"Error: {e}\")\n"
   ]
  },
  {
   "cell_type": "code",
   "execution_count": 195,
   "id": "0ce83887-e027-4e3d-b567-ad683c346246",
   "metadata": {},
   "outputs": [
    {
     "name": "stdout",
     "output_type": "stream",
     "text": [
      "Error: name 'xyz' is not defined\n"
     ]
    }
   ],
   "source": [
    "try:\n",
    "    print(xyz)\n",
    "except Exception as e:\n",
    "    print(f\"Error: {e}\")\n"
   ]
  },
  {
   "cell_type": "code",
   "execution_count": 215,
   "id": "b670c229-79cf-4282-86ef-eb94b57ab60c",
   "metadata": {},
   "outputs": [
    {
     "name": "stdout",
     "output_type": "stream",
     "text": [
      "Error: [Errno 2] No such file or directory: 'randomfile.txt'\n"
     ]
    }
   ],
   "source": [
    "try:\n",
    "    with open('randomfile.txt', 'r') as file:\n",
    "        content = file.read()\n",
    "except Exception as e:\n",
    "    print(f\"Error: {e}\")\n"
   ]
  },
  {
   "cell_type": "markdown",
   "id": "7060d5d1-35aa-435f-bc9f-4665375d02bc",
   "metadata": {},
   "source": [
    "<h1>Question 10<h1>"
   ]
  },
  {
   "cell_type": "code",
   "execution_count": 128,
   "id": "647d5129-5190-4dfa-97bc-d556ee379dc7",
   "metadata": {},
   "outputs": [
    {
     "name": "stdout",
     "output_type": "stream",
     "text": [
      "[1, 1, 1, 3, 5, 1, 1, 2, 1, 0, 1, 0, 1, 2, 4, 0, 1, 2, 0, 3, 1, 0, 1, 1, 0, 0]\n",
      "[1, 0, 0, 0, 1, 0, 0, 0, 0, 0, 0, 1, 0, 0, 0, 2, 0, 0, 0, 0, 0, 0, 0, 0, 0, 0]\n",
      "[1, 0, 0, 0, 0, 0, 0, 0, 1, 0, 0, 0, 0, 0, 0, 1, 0, 0, 0, 0, 0, 0, 0, 0, 0, 2]\n"
     ]
    }
   ],
   "source": [
    "def frequencies(text):\n",
    "    letters = 'abcdefghijklmnopqrstuvwxyz' #defining lowercase letters\n",
    "    freq_list = [0] * len(letters) #store frequencies of letters\n",
    "    text = text.lower()\n",
    "    \n",
    "    for char in text:\n",
    "        if char in letters:\n",
    "            index = letters.index(char) #search of index of character in the letters string\n",
    "            freq_list[index] += 1\n",
    "    return freq_list\n",
    "\n",
    "print(frequencies('The quick red fox got bored and went home.'))\n",
    "print(frequencies('apple'))\n",
    "print(frequencies('Pizza'))\n"
   ]
  },
  {
   "cell_type": "code",
   "execution_count": null,
   "id": "42ec7249-d0e3-4873-a5f9-d4bb21a6d882",
   "metadata": {},
   "outputs": [],
   "source": []
  }
 ],
 "metadata": {
  "kernelspec": {
   "display_name": "Python 3 (ipykernel)",
   "language": "python",
   "name": "python3"
  },
  "language_info": {
   "codemirror_mode": {
    "name": "ipython",
    "version": 3
   },
   "file_extension": ".py",
   "mimetype": "text/x-python",
   "name": "python",
   "nbconvert_exporter": "python",
   "pygments_lexer": "ipython3",
   "version": "3.12.4"
  }
 },
 "nbformat": 4,
 "nbformat_minor": 5
}
